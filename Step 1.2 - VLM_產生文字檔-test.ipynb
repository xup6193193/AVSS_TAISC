{
 "cells": [
  {
   "cell_type": "code",
   "execution_count": 1,
   "id": "b2227a98-c6a7-49b1-ab6e-df71a1656090",
   "metadata": {},
   "outputs": [
    {
     "name": "stdout",
     "output_type": "stream",
     "text": [
      "正在載入模型，請稍候...\n",
      "偵測到 CUDA 設備: NVIDIA GeForce RTX 3060 Ti\n"
     ]
    },
    {
     "data": {
      "application/vnd.jupyter.widget-view+json": {
       "model_id": "0e1c05cd6a5a448db6539b35e53d2cb7",
       "version_major": 2,
       "version_minor": 0
      },
      "text/plain": [
       "Loading checkpoint shards:   0%|          | 0/3 [00:00<?, ?it/s]"
      ]
     },
     "metadata": {},
     "output_type": "display_data"
    },
    {
     "name": "stderr",
     "output_type": "stream",
     "text": [
      "Using a slow image processor as `use_fast` is unset and a slow processor was saved with this model. `use_fast=True` will be the default behavior in v4.52, even if the model was saved with a slow processor. This will result in minor differences in outputs. You'll still be able to use a slow processor with `use_fast=False`.\n"
     ]
    },
    {
     "name": "stdout",
     "output_type": "stream",
     "text": [
      "模型載入完成！(Attention Implementation: eager)\n",
      "\n",
      "*** 開始處理 TEST 資料集 (採用高效循序模式) ***\n",
      "\n",
      "--- 開始處理 road (test set) ---\n",
      "偵測到已存在的輸出檔 ./road_test_with_captions.csv。將從上次中斷處繼續。\n"
     ]
    },
    {
     "data": {
      "application/vnd.jupyter.widget-view+json": {
       "model_id": "eaa0a9281e0d4ebfacf66a083c80d5ff",
       "version_major": 2,
       "version_minor": 0
      },
      "text/plain": [
       "處理 road 進度:   0%|          | 0/121 [00:00<?, ?it/s]"
      ]
     },
     "metadata": {},
     "output_type": "display_data"
    },
    {
     "name": "stdout",
     "output_type": "stream",
     "text": [
      "\n",
      "--- road (test set) 處理完成！結果已儲存至: ./road_test_with_captions.csv ---\n",
      "\n",
      "--- 開始處理 freeway (test set) ---\n",
      "偵測到已存在的輸出檔 ./freeway_test_with_captions.csv。將從上次中斷處繼續。\n"
     ]
    },
    {
     "data": {
      "application/vnd.jupyter.widget-view+json": {
       "model_id": "8318bbac8dc14e65b1f6867cbd6130b9",
       "version_major": 2,
       "version_minor": 0
      },
      "text/plain": [
       "處理 freeway 進度:   0%|          | 0/122 [00:00<?, ?it/s]"
      ]
     },
     "metadata": {},
     "output_type": "display_data"
    },
    {
     "data": {
      "application/vnd.jupyter.widget-view+json": {
       "model_id": "",
       "version_major": 2,
       "version_minor": 0
      },
      "text/plain": [
       "  -> freeway_0180:   0%|          | 0/89 [00:00<?, ?it/s]"
      ]
     },
     "metadata": {},
     "output_type": "display_data"
    },
    {
     "name": "stderr",
     "output_type": "stream",
     "text": [
      "C:\\Users\\neptu\\AppData\\Local\\Temp\\ipykernel_6952\\2267808587.py:154: FutureWarning: Setting an item of incompatible dtype is deprecated and will raise an error in a future version of pandas. Value 'The image shows a busy highway with multiple cars and trucks driving down the road. The ego car is captured in the foreground, while the other vehicles are in the background. The traffic appears to be moving smoothly, with no immediate hazards visible. | The image shows a busy highway with multiple cars and trucks driving down the road. The ego car is captured in the foreground, while the other vehicles are in the background. The traffic appears to be moving smoothly, with no immediate hazards visible. | The image shows a busy highway with multiple cars and trucks driving down the road. The ego car is captured in the foreground, while the other vehicles are in the background. The traffic appears to be moving smoothly, with no immediate hazards visible. | The image shows a busy highway with multiple cars and trucks driving down the road. The ego car is captured in the foreground, while the other vehicles are in the background. The traffic appears to be moving smoothly, with no immediate hazards visible. | The image shows a busy highway with multiple cars and trucks driving down the road. The ego car is captured in the foreground, while the other vehicles are in the background. The traffic appears to be moving smoothly, with no immediate hazards visible. | The image shows a busy highway with multiple cars and trucks driving down the road. The ego car is captured in the foreground, while other vehicles are visible in the background. There are no immediate hazards, but the general traffic scene is quite busy, with cars and trucks sharing the road. | The image shows a busy highway with multiple cars and trucks driving down the road. The ego car is captured in the foreground, while other vehicles are visible in the background. The scene appears to be relatively safe, with no immediate hazards visible. However, the presence of multiple vehicles on the road highlights the importance of maintaining safe driving practices and being aware of one's surroundings. | The image shows a busy highway with multiple cars and trucks driving down the road. The ego car is captured in the foreground, while other vehicles are visible in the background. The scene appears to be relatively safe, with no immediate hazards visible. However, it is important to remain vigilant and cautious while driving in such traffic conditions. | The image shows a busy highway with multiple cars and a truck, indicating a high level of traffic. The car in the foreground is driving down the road, and there are no immediate hazards visible. However, the presence of other vehicles and the truck suggests that the driver should remain vigilant and cautious while navigating the highway. | The image shows a busy highway with multiple cars and a truck, indicating a high level of traffic. The car in the foreground is driving down the road, and there are no immediate hazards visible. However, the presence of other vehicles and the truck suggests that the driver should remain vigilant and cautious while navigating the highway. | The image shows a busy highway with multiple cars and trucks driving down the road. The ego car is captured in the foreground, while other vehicles are visible in the background. The traffic appears to be moving smoothly, with no immediate hazards visible. | The image shows a busy highway with multiple cars and trucks driving down the road. The ego car is captured in the foreground, while other vehicles are visible in the background. The traffic appears to be moving smoothly, with no immediate hazards visible. | The image shows a busy highway with multiple cars and trucks driving down the road. The ego car is captured in the foreground, while other vehicles are visible in the background. The traffic appears to be moving smoothly, with no immediate hazards visible. | The image shows a busy highway with multiple cars and trucks driving down the road. The ego car is in the foreground, and there are no immediate hazards visible. However, the general traffic scene suggests that drivers should remain vigilant and cautious while navigating the highway. | The image shows a busy highway with multiple cars and a truck, along with a dashcam view of the road. The cars are driving in a straight line, and there are no immediate hazards visible. The general traffic scene appears to be orderly and safe, with no signs of aggressive driving or dangerous maneuvers. | The image shows a busy highway with multiple cars and a truck, indicating a high level of traffic. The ego car is captured in the foreground, while the other vehicles are in the background. The scene is captured from the perspective of the driver, providing a clear view of the road ahead. | The image shows a busy highway with multiple cars and trucks driving down the road. The ego car is captured in the foreground, while the other vehicles are in the background. The scene appears to be relatively safe, with no immediate hazards visible. However, it is important to remain vigilant and cautious while driving in such traffic conditions. | The image shows a busy highway with multiple cars and trucks driving down the road. The ego car is captured in the foreground, while the other vehicles are in the background. The traffic appears to be moving smoothly, with no immediate hazards visible. | The image shows a busy highway with multiple cars and a truck, indicating a high level of traffic. The car in the foreground is driving down the road, and there are no immediate hazards visible. However, the presence of multiple vehicles on the road highlights the importance of maintaining safe driving practices and being aware of one's surroundings. | The image shows a busy highway with multiple cars and a truck, indicating a high level of traffic. The car in the foreground is driving down the road, and there are no immediate hazards visible. However, the presence of other vehicles and the truck suggests that the driver should remain vigilant and cautious while navigating the highway. | The image shows a busy highway with multiple cars and a truck, along with a pedestrian. The ego car is driving down the road, and the general traffic scene appears to be relatively safe, with no immediate hazards visible. | The image shows a busy highway with multiple cars and a truck, along with a dashcam view of the road. There are no immediate hazards visible, but the general traffic scene suggests that drivers should remain vigilant and cautious while navigating the highway. | The image shows a busy highway with multiple cars and a truck, along with a pedestrian. The ego car is driving down the road, and the traffic appears to be moving smoothly. | The image shows a busy highway with multiple cars and trucks driving down the road. The ego car is captured in the foreground, while the other vehicles are in the background. The traffic appears to be moving smoothly, with no immediate hazards visible. | The image shows a busy highway with multiple cars and a truck, indicating a high level of traffic. The dashcam is mounted in the front of a car, providing a clear view of the road ahead. The general traffic scene appears to be relatively safe, with no immediate hazards visible. However, the presence of a truck and other vehicles on the highway suggests that drivers should remain vigilant and cautious to ensure the safety of all road users. | The image shows a busy highway with multiple cars and trucks driving down the road. The ego car is captured in the foreground, while the other vehicles are in the background. The traffic appears to be moving smoothly, with no immediate hazards visible. | The image shows a busy highway with multiple cars and a truck, along with a pedestrian. The ego car is driving down the road, and the traffic appears to be moving smoothly. | The image shows a busy highway with multiple cars and a truck, along with a pedestrian. The ego car is driving down the road, and the general traffic scene appears to be relatively safe, with no immediate hazards visible. | The image shows a busy highway with multiple cars and trucks driving down the road. The ego car is captured in the foreground, while other vehicles are visible in the background. The traffic appears to be moving smoothly, with no immediate hazards visible. | The image shows a busy highway with multiple cars and trucks driving down the road. The ego car is in the foreground, and the dashcam is capturing the scene from the driver's perspective. There are no immediate hazards visible, but the general traffic scene is quite busy, with vehicles moving in various directions. | The image shows a busy highway with multiple cars and trucks driving down the road. The ego car is captured in the foreground, while other vehicles are visible in the background. There are no immediate hazards, but the general traffic scene is quite busy, with cars and trucks sharing the road. | The image shows a busy highway with multiple cars and a truck, indicating a high level of traffic. The dashcam is mounted in the front of a car, providing a clear view of the road ahead. The general traffic scene appears to be relatively safe, with no immediate hazards visible. However, the presence of a truck and other vehicles on the road highlights the importance of maintaining a safe distance and being cautious while driving in such conditions. | The image shows a busy highway with multiple cars and trucks driving down the road. The ego car is captured in the foreground, while other vehicles are visible in the background. The traffic appears to be moving smoothly, with no immediate hazards visible. | The image shows a busy highway with multiple cars and trucks driving down the road. The ego car is captured in the foreground, while other vehicles are visible in the background. The traffic appears to be moving smoothly, with no immediate hazards visible. | The image shows a busy highway with multiple cars and trucks driving down the road. The ego car is captured in the foreground, while the other vehicles are in the background. The traffic appears to be moving smoothly, with no immediate hazards visible. | The image shows a busy highway with multiple cars and a truck, along with a pedestrian crossing the street. The ego car is driving down the road, and the traffic appears to be moving smoothly. | The image shows a busy highway with multiple cars and trucks driving down the road. The car in the foreground is driving down the road, and there are no immediate hazards visible. The general traffic scene appears to be relatively safe, with vehicles maintaining a safe distance from each other. | The image shows a busy highway with multiple cars and a truck, indicating a high level of traffic. The car in the foreground is driving down the road, and there are no immediate hazards visible in the scene. | The image shows a highway with multiple cars and a truck, with a dashcam view of the road. There are no immediate hazards visible, but the general traffic scene includes cars and a truck driving down the road, with a few pedestrians in the area. | The image shows a busy highway with multiple cars and trucks, including a white car in the foreground. The traffic appears to be moving smoothly, with no immediate hazards visible. However, the presence of large vehicles, such as trucks, requires extra caution from other drivers to ensure safe driving conditions. | The image shows a busy highway with multiple cars and a truck, indicating a high level of traffic. The car in the foreground is driving down the road, and there are no immediate hazards visible. However, the presence of other vehicles and the truck suggests that the driver should remain vigilant and cautious while navigating the highway. | The image shows a busy highway with multiple cars and a truck, indicating a high level of traffic. The car in the foreground is driving down the road, and there are no immediate hazards visible. However, the presence of other vehicles and the truck suggests that the driver should remain vigilant and cautious while navigating the highway. | The image shows a busy highway with multiple cars and a truck, indicating a high level of traffic. The car in the foreground is driving down the road, and there are no immediate hazards visible. However, the presence of multiple vehicles and the truck suggests that the driver should remain vigilant and cautious while navigating the highway. | The image shows a busy highway with multiple cars and a truck, along with a dashcam view of the road. There are no immediate hazards visible, but the general traffic scene suggests that drivers should remain vigilant and cautious while navigating the highway. | The image shows a busy highway with multiple cars and a truck, along with a dashcam view of the road. There are no immediate hazards visible, but the general traffic scene is quite busy, with cars and a truck driving down the road. | The image shows a busy highway with multiple cars and a truck, indicating a high level of traffic. The car in the foreground is driving down the road, and there are no immediate hazards visible. However, the presence of multiple vehicles and pedestrians in the scene highlights the importance of maintaining safe driving practices and being aware of one's surroundings. | The image shows a busy highway with multiple cars and a truck, along with a dashcam view of the road. There are no immediate hazards visible, but the general traffic scene suggests that drivers should remain vigilant and cautious while navigating the highway. | The image shows a busy highway with multiple cars and a truck, along with a dashcam view of the road. There are no immediate hazards visible, but the general traffic scene suggests that drivers should remain vigilant and cautious while navigating the highway. | The image shows a busy highway with multiple cars and a truck, indicating a high level of traffic. The car in the foreground is driving down the road, and there are no immediate hazards visible. However, the presence of multiple vehicles on the road highlights the importance of maintaining safe driving practices and being aware of one's surroundings. | The image shows a busy highway with multiple cars and trucks driving down the road. The ego car is captured in the foreground, while the other vehicles are in the background. The traffic appears to be moving smoothly, with no immediate hazards visible. | The image shows a busy highway with multiple cars and trucks driving down the road. The ego car is captured in the foreground, while the other vehicles are in the background. The traffic appears to be moving smoothly, with no immediate hazards visible. | The image shows a busy highway with multiple cars and trucks driving down the road. The ego car is captured in the foreground, while the other vehicles are in the background. The traffic appears to be moving smoothly, with no immediate hazards visible. | The image shows a busy highway with multiple cars and trucks driving down the road. The ego car is captured in the foreground, while the other vehicles are in the background. The scene appears to be relatively safe, with no immediate hazards visible. However, it is important to remain vigilant and cautious while driving in such traffic conditions. | The image shows a highway with multiple cars and a truck, with a dashcam view of the traffic. There are no immediate hazards visible, but the general traffic scene includes cars and a truck driving down the road, with a few pedestrians in the area. | The image shows a busy highway with multiple cars and trucks driving down the road. There are no immediate hazards visible, but the general traffic scene suggests that drivers should remain vigilant and cautious while navigating the highway. | The image shows a busy highway with multiple cars and a truck, all moving in the same direction. The ego car is captured in the foreground, while the other vehicles are in the background. The scene is captured from the perspective of the driver, providing a clear view of the road ahead. | The image shows a busy highway with multiple cars and a truck, along with a dashcam view of the road. There are no immediate hazards visible, but the general traffic scene suggests that drivers should remain vigilant and cautious while navigating the highway. | The image shows a busy highway with multiple cars and a truck, along with a dashcam view of the road. The cars are driving in various lanes, and the truck is in the middle of the scene. The general traffic scene appears to be relatively safe, with no immediate hazards visible. However, the presence of multiple vehicles and the dashcam view suggest that the driver should remain vigilant and cautious while driving. | The image shows a car driving down a highway with other cars and a truck in the vicinity. The car is in the foreground, and there are no immediate hazards visible. The general traffic scene includes cars and a truck on the highway, with no pedestrians or other potential hazards. | The image shows a busy highway with multiple cars and a truck, indicating a high level of traffic. The car in the foreground is driving down the road, and there are no immediate hazards visible. However, the presence of multiple vehicles on the road highlights the importance of maintaining safe driving practices and being aware of one's surroundings to avoid potential accidents. | The image shows a busy highway with multiple cars and a truck, along with a dashcam view of the road. There are no immediate hazards visible, but the general traffic scene is quite busy, with cars and a truck driving down the road. | The image shows a busy highway with multiple cars and a truck, along with a dashcam view of the road. There are no immediate hazards visible, but the general traffic scene suggests that drivers should remain vigilant and cautious while navigating the highway. | The image shows a busy highway with multiple cars and a truck, along with a dashcam view of the road. There are no immediate hazards visible, but the general traffic scene is quite busy, with cars and a truck driving down the road. | The image shows a busy highway with multiple cars and a truck, along with a dashcam view of the road. There are no immediate hazards visible, but the general traffic scene suggests that drivers should remain vigilant and cautious while navigating the highway. | The image shows a busy highway with multiple cars and trucks driving down the road. The ego car is captured in the foreground, while other vehicles are visible in the background. The scene appears to be relatively safe, with no immediate hazards visible. However, it is important to remain vigilant and cautious while driving in such traffic conditions. | The image shows a busy highway with multiple cars and a truck, along with a dashcam view of the road. There are no immediate hazards visible, but the general traffic scene suggests that drivers should remain vigilant and cautious while navigating the highway. | The image shows a busy highway with multiple cars and trucks driving down the road. The ego car is captured in the foreground, while other vehicles are visible in the background. There are no pedestrians or immediate hazards visible in the image. The general traffic scene appears to be moderately congested, with vehicles maintaining a safe distance from each other. | The image shows a busy highway with multiple cars and trucks, including a white car in the foreground. The traffic appears to be moving smoothly, with no immediate hazards visible. However, the presence of large vehicles, such as trucks, requires extra caution from other drivers to ensure safe driving conditions. | The image shows a busy highway with multiple cars and trucks driving down the road. The ego car is captured in the foreground, while other vehicles are visible in the background. The traffic appears to be moving smoothly, with no immediate hazards visible. | The image shows a busy highway with multiple cars and trucks, including a white car in the foreground. The traffic appears to be moving smoothly, with no immediate hazards visible. However, the presence of large vehicles, such as trucks, requires extra caution from other drivers to ensure safe driving conditions. | The image shows a busy highway with multiple cars and trucks driving down the road. The ego car is captured in the foreground, while the other vehicles are in the background. The traffic appears to be moving smoothly, with no immediate hazards visible. | The image shows a busy highway with multiple cars and trucks driving down the road. The ego car is captured in the foreground, while other vehicles are visible in the background. The traffic appears to be moving smoothly, with no immediate hazards visible. | The image shows a busy highway with multiple cars and trucks driving down the road. The ego car is captured in the foreground, while the other vehicles are in the background. The traffic appears to be moving smoothly, with no immediate hazards visible. | The image shows a busy highway with multiple cars and trucks, including a white car in the foreground. The traffic appears to be moving smoothly, with no immediate hazards visible. However, the presence of large vehicles, such as trucks, requires extra caution from other drivers to ensure safe driving conditions. | The image shows a busy highway with multiple cars and trucks driving down the road. The ego car is captured in the foreground, while other vehicles are visible in the background. There are no pedestrians or immediate hazards visible in the image. The general traffic scene appears to be moderately congested, with vehicles maintaining a safe distance from each other. | The image shows a busy highway with multiple cars and trucks driving down the road. The ego car is captured in the foreground, while other vehicles are visible in the background. The traffic appears to be moving smoothly, with no immediate hazards visible. | The image shows a busy highway with multiple cars and a truck, along with a dashcam view of the road. There are no immediate hazards visible, but the general traffic scene suggests that drivers should remain vigilant and cautious while navigating the highway. | The image shows a busy highway with multiple cars and a truck, along with a dashcam view of the road. There are no immediate hazards visible, but the general traffic scene suggests that drivers should remain vigilant and cautious while navigating the highway. | The image shows a busy highway with multiple cars and a truck, along with a dashcam view of the road. There are no immediate hazards visible, but the general traffic scene suggests that drivers should remain vigilant and cautious while navigating the highway. | The image shows a busy highway with multiple cars and a truck, and a dashcam view of the road. There are no immediate hazards visible, but the general traffic scene is quite busy, with vehicles moving in different directions and the ego car's movement being captured in the dashcam. | The image shows a busy highway with multiple cars and trucks driving down the road. There are no immediate hazards visible, but the general traffic scene suggests that drivers should remain vigilant and cautious while navigating the highway. | The image shows a busy highway with multiple cars and trucks driving down the road. The ego car is captured in the foreground, while other vehicles are visible in the background. The traffic appears to be moving smoothly, with no immediate hazards visible. | The image shows a busy highway with multiple cars and a truck, along with a dashcam view of the road. There are no immediate hazards visible, but the general traffic scene suggests that drivers should remain vigilant and cautious while navigating the highway. | The image shows a busy highway with multiple cars and a truck, along with a dashcam view of the road. There are no immediate hazards visible, but the general traffic scene suggests that drivers should remain vigilant and cautious while navigating the highway. | The image shows a busy highway with multiple cars and a truck, along with a dashcam view of the road. There are no immediate hazards visible, but the general traffic scene is quite busy, with vehicles moving in various directions. | The image shows a busy highway with multiple cars and a truck, along with a dashcam view of the road. The cars are driving in various lanes, and the truck is in the middle of the scene. There are no pedestrians visible in the image. The general traffic scene appears to be moderately congested, with no immediate hazards. | The image shows a busy highway with multiple cars and a truck, indicating a high level of traffic. The car in the foreground is driving down the road, and there are no immediate hazards visible. However, the presence of multiple vehicles on the road highlights the importance of maintaining safe driving practices and being aware of one's surroundings to avoid accidents. | The image shows a busy highway with multiple cars and a truck, indicating a high level of traffic. The car in the foreground is driving down the road, and there are no immediate hazards visible. However, the presence of multiple vehicles on the road highlights the importance of maintaining safe driving practices and being aware of one's surroundings. | The image shows a busy highway with multiple cars and a truck, indicating a high level of traffic. The ego car is captured in the foreground, while the other vehicles are in the background. The scene appears to be relatively safe, with no immediate hazards visible. However, the presence of multiple vehicles on the road highlights the importance of maintaining safe driving practices and being aware of one's surroundings.' has dtype incompatible with float64, please explicitly cast to a compatible dtype first.\n",
      "  output_df.at[index, 'captions'] = combined_captions\n"
     ]
    },
    {
     "data": {
      "application/vnd.jupyter.widget-view+json": {
       "model_id": "",
       "version_major": 2,
       "version_minor": 0
      },
      "text/plain": [
       "  -> freeway_0181:   0%|          | 0/95 [00:00<?, ?it/s]"
      ]
     },
     "metadata": {},
     "output_type": "display_data"
    },
    {
     "data": {
      "application/vnd.jupyter.widget-view+json": {
       "model_id": "",
       "version_major": 2,
       "version_minor": 0
      },
      "text/plain": [
       "  -> freeway_0182:   0%|          | 0/102 [00:00<?, ?it/s]"
      ]
     },
     "metadata": {},
     "output_type": "display_data"
    },
    {
     "data": {
      "application/vnd.jupyter.widget-view+json": {
       "model_id": "",
       "version_major": 2,
       "version_minor": 0
      },
      "text/plain": [
       "  -> freeway_0183:   0%|          | 0/109 [00:00<?, ?it/s]"
      ]
     },
     "metadata": {},
     "output_type": "display_data"
    },
    {
     "data": {
      "application/vnd.jupyter.widget-view+json": {
       "model_id": "",
       "version_major": 2,
       "version_minor": 0
      },
      "text/plain": [
       "  -> freeway_0184:   0%|          | 0/111 [00:00<?, ?it/s]"
      ]
     },
     "metadata": {},
     "output_type": "display_data"
    },
    {
     "data": {
      "application/vnd.jupyter.widget-view+json": {
       "model_id": "",
       "version_major": 2,
       "version_minor": 0
      },
      "text/plain": [
       "  -> freeway_0185:   0%|          | 0/159 [00:00<?, ?it/s]"
      ]
     },
     "metadata": {},
     "output_type": "display_data"
    },
    {
     "data": {
      "application/vnd.jupyter.widget-view+json": {
       "model_id": "",
       "version_major": 2,
       "version_minor": 0
      },
      "text/plain": [
       "  -> freeway_0186:   0%|          | 0/118 [00:00<?, ?it/s]"
      ]
     },
     "metadata": {},
     "output_type": "display_data"
    },
    {
     "data": {
      "application/vnd.jupyter.widget-view+json": {
       "model_id": "",
       "version_major": 2,
       "version_minor": 0
      },
      "text/plain": [
       "  -> freeway_0187:   0%|          | 0/90 [00:00<?, ?it/s]"
      ]
     },
     "metadata": {},
     "output_type": "display_data"
    },
    {
     "data": {
      "application/vnd.jupyter.widget-view+json": {
       "model_id": "",
       "version_major": 2,
       "version_minor": 0
      },
      "text/plain": [
       "  -> freeway_0188:   0%|          | 0/45 [00:00<?, ?it/s]"
      ]
     },
     "metadata": {},
     "output_type": "display_data"
    },
    {
     "data": {
      "application/vnd.jupyter.widget-view+json": {
       "model_id": "",
       "version_major": 2,
       "version_minor": 0
      },
      "text/plain": [
       "  -> freeway_0189:   0%|          | 0/73 [00:00<?, ?it/s]"
      ]
     },
     "metadata": {},
     "output_type": "display_data"
    },
    {
     "data": {
      "application/vnd.jupyter.widget-view+json": {
       "model_id": "",
       "version_major": 2,
       "version_minor": 0
      },
      "text/plain": [
       "  -> freeway_0190:   0%|          | 0/15 [00:00<?, ?it/s]"
      ]
     },
     "metadata": {},
     "output_type": "display_data"
    },
    {
     "data": {
      "application/vnd.jupyter.widget-view+json": {
       "model_id": "",
       "version_major": 2,
       "version_minor": 0
      },
      "text/plain": [
       "  -> freeway_0191:   0%|          | 0/67 [00:00<?, ?it/s]"
      ]
     },
     "metadata": {},
     "output_type": "display_data"
    },
    {
     "data": {
      "application/vnd.jupyter.widget-view+json": {
       "model_id": "",
       "version_major": 2,
       "version_minor": 0
      },
      "text/plain": [
       "  -> freeway_0192:   0%|          | 0/97 [00:00<?, ?it/s]"
      ]
     },
     "metadata": {},
     "output_type": "display_data"
    },
    {
     "data": {
      "application/vnd.jupyter.widget-view+json": {
       "model_id": "",
       "version_major": 2,
       "version_minor": 0
      },
      "text/plain": [
       "  -> freeway_0193:   0%|          | 0/97 [00:00<?, ?it/s]"
      ]
     },
     "metadata": {},
     "output_type": "display_data"
    },
    {
     "data": {
      "application/vnd.jupyter.widget-view+json": {
       "model_id": "",
       "version_major": 2,
       "version_minor": 0
      },
      "text/plain": [
       "  -> freeway_0194:   0%|          | 0/21 [00:00<?, ?it/s]"
      ]
     },
     "metadata": {},
     "output_type": "display_data"
    },
    {
     "data": {
      "application/vnd.jupyter.widget-view+json": {
       "model_id": "",
       "version_major": 2,
       "version_minor": 0
      },
      "text/plain": [
       "  -> freeway_0195:   0%|          | 0/90 [00:00<?, ?it/s]"
      ]
     },
     "metadata": {},
     "output_type": "display_data"
    },
    {
     "data": {
      "application/vnd.jupyter.widget-view+json": {
       "model_id": "",
       "version_major": 2,
       "version_minor": 0
      },
      "text/plain": [
       "  -> freeway_0196:   0%|          | 0/70 [00:00<?, ?it/s]"
      ]
     },
     "metadata": {},
     "output_type": "display_data"
    },
    {
     "data": {
      "application/vnd.jupyter.widget-view+json": {
       "model_id": "",
       "version_major": 2,
       "version_minor": 0
      },
      "text/plain": [
       "  -> freeway_0197:   0%|          | 0/104 [00:00<?, ?it/s]"
      ]
     },
     "metadata": {},
     "output_type": "display_data"
    },
    {
     "data": {
      "application/vnd.jupyter.widget-view+json": {
       "model_id": "",
       "version_major": 2,
       "version_minor": 0
      },
      "text/plain": [
       "  -> freeway_0198:   0%|          | 0/47 [00:00<?, ?it/s]"
      ]
     },
     "metadata": {},
     "output_type": "display_data"
    },
    {
     "data": {
      "application/vnd.jupyter.widget-view+json": {
       "model_id": "",
       "version_major": 2,
       "version_minor": 0
      },
      "text/plain": [
       "  -> freeway_0199:   0%|          | 0/15 [00:00<?, ?it/s]"
      ]
     },
     "metadata": {},
     "output_type": "display_data"
    },
    {
     "data": {
      "application/vnd.jupyter.widget-view+json": {
       "model_id": "",
       "version_major": 2,
       "version_minor": 0
      },
      "text/plain": [
       "  -> freeway_0200:   0%|          | 0/106 [00:00<?, ?it/s]"
      ]
     },
     "metadata": {},
     "output_type": "display_data"
    },
    {
     "data": {
      "application/vnd.jupyter.widget-view+json": {
       "model_id": "",
       "version_major": 2,
       "version_minor": 0
      },
      "text/plain": [
       "  -> freeway_0201:   0%|          | 0/15 [00:00<?, ?it/s]"
      ]
     },
     "metadata": {},
     "output_type": "display_data"
    },
    {
     "data": {
      "application/vnd.jupyter.widget-view+json": {
       "model_id": "",
       "version_major": 2,
       "version_minor": 0
      },
      "text/plain": [
       "  -> freeway_0202:   0%|          | 0/103 [00:00<?, ?it/s]"
      ]
     },
     "metadata": {},
     "output_type": "display_data"
    },
    {
     "data": {
      "application/vnd.jupyter.widget-view+json": {
       "model_id": "",
       "version_major": 2,
       "version_minor": 0
      },
      "text/plain": [
       "  -> freeway_0203:   0%|          | 0/102 [00:00<?, ?it/s]"
      ]
     },
     "metadata": {},
     "output_type": "display_data"
    },
    {
     "data": {
      "application/vnd.jupyter.widget-view+json": {
       "model_id": "",
       "version_major": 2,
       "version_minor": 0
      },
      "text/plain": [
       "  -> freeway_0204:   0%|          | 0/111 [00:00<?, ?it/s]"
      ]
     },
     "metadata": {},
     "output_type": "display_data"
    },
    {
     "data": {
      "application/vnd.jupyter.widget-view+json": {
       "model_id": "",
       "version_major": 2,
       "version_minor": 0
      },
      "text/plain": [
       "  -> freeway_0205:   0%|          | 0/15 [00:00<?, ?it/s]"
      ]
     },
     "metadata": {},
     "output_type": "display_data"
    },
    {
     "data": {
      "application/vnd.jupyter.widget-view+json": {
       "model_id": "",
       "version_major": 2,
       "version_minor": 0
      },
      "text/plain": [
       "  -> freeway_0206:   0%|          | 0/33 [00:00<?, ?it/s]"
      ]
     },
     "metadata": {},
     "output_type": "display_data"
    },
    {
     "data": {
      "application/vnd.jupyter.widget-view+json": {
       "model_id": "",
       "version_major": 2,
       "version_minor": 0
      },
      "text/plain": [
       "  -> freeway_0207:   0%|          | 0/48 [00:00<?, ?it/s]"
      ]
     },
     "metadata": {},
     "output_type": "display_data"
    },
    {
     "data": {
      "application/vnd.jupyter.widget-view+json": {
       "model_id": "",
       "version_major": 2,
       "version_minor": 0
      },
      "text/plain": [
       "  -> freeway_0208:   0%|          | 0/15 [00:00<?, ?it/s]"
      ]
     },
     "metadata": {},
     "output_type": "display_data"
    },
    {
     "data": {
      "application/vnd.jupyter.widget-view+json": {
       "model_id": "",
       "version_major": 2,
       "version_minor": 0
      },
      "text/plain": [
       "  -> freeway_0209:   0%|          | 0/15 [00:00<?, ?it/s]"
      ]
     },
     "metadata": {},
     "output_type": "display_data"
    },
    {
     "data": {
      "application/vnd.jupyter.widget-view+json": {
       "model_id": "",
       "version_major": 2,
       "version_minor": 0
      },
      "text/plain": [
       "  -> freeway_0210:   0%|          | 0/64 [00:00<?, ?it/s]"
      ]
     },
     "metadata": {},
     "output_type": "display_data"
    },
    {
     "data": {
      "application/vnd.jupyter.widget-view+json": {
       "model_id": "",
       "version_major": 2,
       "version_minor": 0
      },
      "text/plain": [
       "  -> freeway_0211:   0%|          | 0/152 [00:00<?, ?it/s]"
      ]
     },
     "metadata": {},
     "output_type": "display_data"
    },
    {
     "data": {
      "application/vnd.jupyter.widget-view+json": {
       "model_id": "",
       "version_major": 2,
       "version_minor": 0
      },
      "text/plain": [
       "  -> freeway_0212:   0%|          | 0/66 [00:00<?, ?it/s]"
      ]
     },
     "metadata": {},
     "output_type": "display_data"
    },
    {
     "data": {
      "application/vnd.jupyter.widget-view+json": {
       "model_id": "",
       "version_major": 2,
       "version_minor": 0
      },
      "text/plain": [
       "  -> freeway_0213:   0%|          | 0/70 [00:00<?, ?it/s]"
      ]
     },
     "metadata": {},
     "output_type": "display_data"
    },
    {
     "data": {
      "application/vnd.jupyter.widget-view+json": {
       "model_id": "",
       "version_major": 2,
       "version_minor": 0
      },
      "text/plain": [
       "  -> freeway_0214:   0%|          | 0/134 [00:00<?, ?it/s]"
      ]
     },
     "metadata": {},
     "output_type": "display_data"
    },
    {
     "data": {
      "application/vnd.jupyter.widget-view+json": {
       "model_id": "",
       "version_major": 2,
       "version_minor": 0
      },
      "text/plain": [
       "  -> freeway_0215:   0%|          | 0/112 [00:00<?, ?it/s]"
      ]
     },
     "metadata": {},
     "output_type": "display_data"
    },
    {
     "data": {
      "application/vnd.jupyter.widget-view+json": {
       "model_id": "",
       "version_major": 2,
       "version_minor": 0
      },
      "text/plain": [
       "  -> freeway_0216:   0%|          | 0/133 [00:00<?, ?it/s]"
      ]
     },
     "metadata": {},
     "output_type": "display_data"
    },
    {
     "data": {
      "application/vnd.jupyter.widget-view+json": {
       "model_id": "",
       "version_major": 2,
       "version_minor": 0
      },
      "text/plain": [
       "  -> freeway_0217:   0%|          | 0/75 [00:00<?, ?it/s]"
      ]
     },
     "metadata": {},
     "output_type": "display_data"
    },
    {
     "data": {
      "application/vnd.jupyter.widget-view+json": {
       "model_id": "",
       "version_major": 2,
       "version_minor": 0
      },
      "text/plain": [
       "  -> freeway_0218:   0%|          | 0/86 [00:00<?, ?it/s]"
      ]
     },
     "metadata": {},
     "output_type": "display_data"
    },
    {
     "data": {
      "application/vnd.jupyter.widget-view+json": {
       "model_id": "",
       "version_major": 2,
       "version_minor": 0
      },
      "text/plain": [
       "  -> freeway_0219:   0%|          | 0/15 [00:00<?, ?it/s]"
      ]
     },
     "metadata": {},
     "output_type": "display_data"
    },
    {
     "data": {
      "application/vnd.jupyter.widget-view+json": {
       "model_id": "",
       "version_major": 2,
       "version_minor": 0
      },
      "text/plain": [
       "  -> freeway_0220:   0%|          | 0/94 [00:00<?, ?it/s]"
      ]
     },
     "metadata": {},
     "output_type": "display_data"
    },
    {
     "data": {
      "application/vnd.jupyter.widget-view+json": {
       "model_id": "",
       "version_major": 2,
       "version_minor": 0
      },
      "text/plain": [
       "  -> freeway_0221:   0%|          | 0/106 [00:00<?, ?it/s]"
      ]
     },
     "metadata": {},
     "output_type": "display_data"
    },
    {
     "data": {
      "application/vnd.jupyter.widget-view+json": {
       "model_id": "7483a965c4f54afa822c77a4e56019ba",
       "version_major": 2,
       "version_minor": 0
      },
      "text/plain": [
       "  -> freeway_0222:   0%|          | 0/108 [00:00<?, ?it/s]"
      ]
     },
     "metadata": {},
     "output_type": "display_data"
    },
    {
     "data": {
      "application/vnd.jupyter.widget-view+json": {
       "model_id": "a7e18bee22cb439898a47c9d03850ad2",
       "version_major": 2,
       "version_minor": 0
      },
      "text/plain": [
       "  -> freeway_0223:   0%|          | 0/96 [00:00<?, ?it/s]"
      ]
     },
     "metadata": {},
     "output_type": "display_data"
    },
    {
     "data": {
      "application/vnd.jupyter.widget-view+json": {
       "model_id": "0e047a38f43948b1ae2b2ba8c59754f9",
       "version_major": 2,
       "version_minor": 0
      },
      "text/plain": [
       "  -> freeway_0224:   0%|          | 0/40 [00:00<?, ?it/s]"
      ]
     },
     "metadata": {},
     "output_type": "display_data"
    },
    {
     "data": {
      "application/vnd.jupyter.widget-view+json": {
       "model_id": "b976bd82c29644c4aa8636e919cd6131",
       "version_major": 2,
       "version_minor": 0
      },
      "text/plain": [
       "  -> freeway_0225:   0%|          | 0/15 [00:00<?, ?it/s]"
      ]
     },
     "metadata": {},
     "output_type": "display_data"
    },
    {
     "data": {
      "application/vnd.jupyter.widget-view+json": {
       "model_id": "5a3b7709645b4c43835a9b366eda9ab7",
       "version_major": 2,
       "version_minor": 0
      },
      "text/plain": [
       "  -> freeway_0226:   0%|          | 0/107 [00:00<?, ?it/s]"
      ]
     },
     "metadata": {},
     "output_type": "display_data"
    },
    {
     "data": {
      "application/vnd.jupyter.widget-view+json": {
       "model_id": "7d61c6c5be66498ab5c4d7c21d9b41e9",
       "version_major": 2,
       "version_minor": 0
      },
      "text/plain": [
       "  -> freeway_0227:   0%|          | 0/81 [00:00<?, ?it/s]"
      ]
     },
     "metadata": {},
     "output_type": "display_data"
    },
    {
     "data": {
      "application/vnd.jupyter.widget-view+json": {
       "model_id": "1ba36604cae34362a3c7ae3a87ea1b3f",
       "version_major": 2,
       "version_minor": 0
      },
      "text/plain": [
       "  -> freeway_0228:   0%|          | 0/15 [00:00<?, ?it/s]"
      ]
     },
     "metadata": {},
     "output_type": "display_data"
    },
    {
     "data": {
      "application/vnd.jupyter.widget-view+json": {
       "model_id": "981c23d196f64778a33ee1f7bd1edee1",
       "version_major": 2,
       "version_minor": 0
      },
      "text/plain": [
       "  -> freeway_0229:   0%|          | 0/124 [00:00<?, ?it/s]"
      ]
     },
     "metadata": {},
     "output_type": "display_data"
    },
    {
     "data": {
      "application/vnd.jupyter.widget-view+json": {
       "model_id": "8a236e33e2634665a4f81795bb757066",
       "version_major": 2,
       "version_minor": 0
      },
      "text/plain": [
       "  -> freeway_0230:   0%|          | 0/162 [00:00<?, ?it/s]"
      ]
     },
     "metadata": {},
     "output_type": "display_data"
    },
    {
     "data": {
      "application/vnd.jupyter.widget-view+json": {
       "model_id": "f7c93e052a124e64bb8b1beebf0f7998",
       "version_major": 2,
       "version_minor": 0
      },
      "text/plain": [
       "  -> freeway_0231:   0%|          | 0/65 [00:00<?, ?it/s]"
      ]
     },
     "metadata": {},
     "output_type": "display_data"
    },
    {
     "data": {
      "application/vnd.jupyter.widget-view+json": {
       "model_id": "f0854bc1d0b54adabafcb5f48bdd7fe9",
       "version_major": 2,
       "version_minor": 0
      },
      "text/plain": [
       "  -> freeway_0232:   0%|          | 0/37 [00:00<?, ?it/s]"
      ]
     },
     "metadata": {},
     "output_type": "display_data"
    },
    {
     "data": {
      "application/vnd.jupyter.widget-view+json": {
       "model_id": "f807ced007124f6c89a8efa5baa9e59c",
       "version_major": 2,
       "version_minor": 0
      },
      "text/plain": [
       "  -> freeway_0233:   0%|          | 0/48 [00:00<?, ?it/s]"
      ]
     },
     "metadata": {},
     "output_type": "display_data"
    },
    {
     "data": {
      "application/vnd.jupyter.widget-view+json": {
       "model_id": "",
       "version_major": 2,
       "version_minor": 0
      },
      "text/plain": [
       "  -> freeway_0234:   0%|          | 0/88 [00:00<?, ?it/s]"
      ]
     },
     "metadata": {},
     "output_type": "display_data"
    },
    {
     "data": {
      "application/vnd.jupyter.widget-view+json": {
       "model_id": "",
       "version_major": 2,
       "version_minor": 0
      },
      "text/plain": [
       "  -> freeway_0235:   0%|          | 0/29 [00:00<?, ?it/s]"
      ]
     },
     "metadata": {},
     "output_type": "display_data"
    },
    {
     "data": {
      "application/vnd.jupyter.widget-view+json": {
       "model_id": "",
       "version_major": 2,
       "version_minor": 0
      },
      "text/plain": [
       "  -> freeway_0236:   0%|          | 0/23 [00:00<?, ?it/s]"
      ]
     },
     "metadata": {},
     "output_type": "display_data"
    },
    {
     "data": {
      "application/vnd.jupyter.widget-view+json": {
       "model_id": "",
       "version_major": 2,
       "version_minor": 0
      },
      "text/plain": [
       "  -> freeway_0237:   0%|          | 0/63 [00:00<?, ?it/s]"
      ]
     },
     "metadata": {},
     "output_type": "display_data"
    },
    {
     "data": {
      "application/vnd.jupyter.widget-view+json": {
       "model_id": "",
       "version_major": 2,
       "version_minor": 0
      },
      "text/plain": [
       "  -> freeway_0238:   0%|          | 0/123 [00:00<?, ?it/s]"
      ]
     },
     "metadata": {},
     "output_type": "display_data"
    },
    {
     "data": {
      "application/vnd.jupyter.widget-view+json": {
       "model_id": "",
       "version_major": 2,
       "version_minor": 0
      },
      "text/plain": [
       "  -> freeway_0239:   0%|          | 0/84 [00:00<?, ?it/s]"
      ]
     },
     "metadata": {},
     "output_type": "display_data"
    },
    {
     "data": {
      "application/vnd.jupyter.widget-view+json": {
       "model_id": "",
       "version_major": 2,
       "version_minor": 0
      },
      "text/plain": [
       "  -> freeway_0240:   0%|          | 0/54 [00:00<?, ?it/s]"
      ]
     },
     "metadata": {},
     "output_type": "display_data"
    },
    {
     "data": {
      "application/vnd.jupyter.widget-view+json": {
       "model_id": "",
       "version_major": 2,
       "version_minor": 0
      },
      "text/plain": [
       "  -> freeway_0241:   0%|          | 0/128 [00:00<?, ?it/s]"
      ]
     },
     "metadata": {},
     "output_type": "display_data"
    },
    {
     "data": {
      "application/vnd.jupyter.widget-view+json": {
       "model_id": "",
       "version_major": 2,
       "version_minor": 0
      },
      "text/plain": [
       "  -> freeway_0242:   0%|          | 0/136 [00:00<?, ?it/s]"
      ]
     },
     "metadata": {},
     "output_type": "display_data"
    },
    {
     "data": {
      "application/vnd.jupyter.widget-view+json": {
       "model_id": "",
       "version_major": 2,
       "version_minor": 0
      },
      "text/plain": [
       "  -> freeway_0243:   0%|          | 0/109 [00:00<?, ?it/s]"
      ]
     },
     "metadata": {},
     "output_type": "display_data"
    },
    {
     "data": {
      "application/vnd.jupyter.widget-view+json": {
       "model_id": "",
       "version_major": 2,
       "version_minor": 0
      },
      "text/plain": [
       "  -> freeway_0244:   0%|          | 0/15 [00:00<?, ?it/s]"
      ]
     },
     "metadata": {},
     "output_type": "display_data"
    },
    {
     "data": {
      "application/vnd.jupyter.widget-view+json": {
       "model_id": "",
       "version_major": 2,
       "version_minor": 0
      },
      "text/plain": [
       "  -> freeway_0245:   0%|          | 0/25 [00:00<?, ?it/s]"
      ]
     },
     "metadata": {},
     "output_type": "display_data"
    },
    {
     "data": {
      "application/vnd.jupyter.widget-view+json": {
       "model_id": "",
       "version_major": 2,
       "version_minor": 0
      },
      "text/plain": [
       "  -> freeway_0246:   0%|          | 0/117 [00:00<?, ?it/s]"
      ]
     },
     "metadata": {},
     "output_type": "display_data"
    },
    {
     "data": {
      "application/vnd.jupyter.widget-view+json": {
       "model_id": "",
       "version_major": 2,
       "version_minor": 0
      },
      "text/plain": [
       "  -> freeway_0247:   0%|          | 0/69 [00:00<?, ?it/s]"
      ]
     },
     "metadata": {},
     "output_type": "display_data"
    },
    {
     "data": {
      "application/vnd.jupyter.widget-view+json": {
       "model_id": "",
       "version_major": 2,
       "version_minor": 0
      },
      "text/plain": [
       "  -> freeway_0248:   0%|          | 0/15 [00:00<?, ?it/s]"
      ]
     },
     "metadata": {},
     "output_type": "display_data"
    },
    {
     "data": {
      "application/vnd.jupyter.widget-view+json": {
       "model_id": "",
       "version_major": 2,
       "version_minor": 0
      },
      "text/plain": [
       "  -> freeway_0249:   0%|          | 0/20 [00:00<?, ?it/s]"
      ]
     },
     "metadata": {},
     "output_type": "display_data"
    },
    {
     "data": {
      "application/vnd.jupyter.widget-view+json": {
       "model_id": "",
       "version_major": 2,
       "version_minor": 0
      },
      "text/plain": [
       "  -> freeway_0250:   0%|          | 0/51 [00:00<?, ?it/s]"
      ]
     },
     "metadata": {},
     "output_type": "display_data"
    },
    {
     "data": {
      "application/vnd.jupyter.widget-view+json": {
       "model_id": "",
       "version_major": 2,
       "version_minor": 0
      },
      "text/plain": [
       "  -> freeway_0251:   0%|          | 0/69 [00:00<?, ?it/s]"
      ]
     },
     "metadata": {},
     "output_type": "display_data"
    },
    {
     "data": {
      "application/vnd.jupyter.widget-view+json": {
       "model_id": "",
       "version_major": 2,
       "version_minor": 0
      },
      "text/plain": [
       "  -> freeway_0252:   0%|          | 0/127 [00:00<?, ?it/s]"
      ]
     },
     "metadata": {},
     "output_type": "display_data"
    },
    {
     "data": {
      "application/vnd.jupyter.widget-view+json": {
       "model_id": "",
       "version_major": 2,
       "version_minor": 0
      },
      "text/plain": [
       "  -> freeway_0253:   0%|          | 0/114 [00:00<?, ?it/s]"
      ]
     },
     "metadata": {},
     "output_type": "display_data"
    },
    {
     "data": {
      "application/vnd.jupyter.widget-view+json": {
       "model_id": "",
       "version_major": 2,
       "version_minor": 0
      },
      "text/plain": [
       "  -> freeway_0254:   0%|          | 0/10 [00:00<?, ?it/s]"
      ]
     },
     "metadata": {},
     "output_type": "display_data"
    },
    {
     "data": {
      "application/vnd.jupyter.widget-view+json": {
       "model_id": "",
       "version_major": 2,
       "version_minor": 0
      },
      "text/plain": [
       "  -> freeway_0255:   0%|          | 0/140 [00:00<?, ?it/s]"
      ]
     },
     "metadata": {},
     "output_type": "display_data"
    },
    {
     "data": {
      "application/vnd.jupyter.widget-view+json": {
       "model_id": "",
       "version_major": 2,
       "version_minor": 0
      },
      "text/plain": [
       "  -> freeway_0256:   0%|          | 0/125 [00:00<?, ?it/s]"
      ]
     },
     "metadata": {},
     "output_type": "display_data"
    },
    {
     "data": {
      "application/vnd.jupyter.widget-view+json": {
       "model_id": "",
       "version_major": 2,
       "version_minor": 0
      },
      "text/plain": [
       "  -> freeway_0257:   0%|          | 0/73 [00:00<?, ?it/s]"
      ]
     },
     "metadata": {},
     "output_type": "display_data"
    },
    {
     "data": {
      "application/vnd.jupyter.widget-view+json": {
       "model_id": "",
       "version_major": 2,
       "version_minor": 0
      },
      "text/plain": [
       "  -> freeway_0258:   0%|          | 0/53 [00:00<?, ?it/s]"
      ]
     },
     "metadata": {},
     "output_type": "display_data"
    },
    {
     "data": {
      "application/vnd.jupyter.widget-view+json": {
       "model_id": "",
       "version_major": 2,
       "version_minor": 0
      },
      "text/plain": [
       "  -> freeway_0259:   0%|          | 0/127 [00:00<?, ?it/s]"
      ]
     },
     "metadata": {},
     "output_type": "display_data"
    },
    {
     "data": {
      "application/vnd.jupyter.widget-view+json": {
       "model_id": "",
       "version_major": 2,
       "version_minor": 0
      },
      "text/plain": [
       "  -> freeway_0260:   0%|          | 0/129 [00:00<?, ?it/s]"
      ]
     },
     "metadata": {},
     "output_type": "display_data"
    },
    {
     "data": {
      "application/vnd.jupyter.widget-view+json": {
       "model_id": "",
       "version_major": 2,
       "version_minor": 0
      },
      "text/plain": [
       "  -> freeway_0261:   0%|          | 0/133 [00:00<?, ?it/s]"
      ]
     },
     "metadata": {},
     "output_type": "display_data"
    },
    {
     "data": {
      "application/vnd.jupyter.widget-view+json": {
       "model_id": "",
       "version_major": 2,
       "version_minor": 0
      },
      "text/plain": [
       "  -> freeway_0262:   0%|          | 0/65 [00:00<?, ?it/s]"
      ]
     },
     "metadata": {},
     "output_type": "display_data"
    },
    {
     "data": {
      "application/vnd.jupyter.widget-view+json": {
       "model_id": "",
       "version_major": 2,
       "version_minor": 0
      },
      "text/plain": [
       "  -> freeway_0263:   0%|          | 0/17 [00:00<?, ?it/s]"
      ]
     },
     "metadata": {},
     "output_type": "display_data"
    },
    {
     "data": {
      "application/vnd.jupyter.widget-view+json": {
       "model_id": "",
       "version_major": 2,
       "version_minor": 0
      },
      "text/plain": [
       "  -> freeway_0264:   0%|          | 0/69 [00:00<?, ?it/s]"
      ]
     },
     "metadata": {},
     "output_type": "display_data"
    },
    {
     "data": {
      "application/vnd.jupyter.widget-view+json": {
       "model_id": "",
       "version_major": 2,
       "version_minor": 0
      },
      "text/plain": [
       "  -> freeway_0265:   0%|          | 0/111 [00:00<?, ?it/s]"
      ]
     },
     "metadata": {},
     "output_type": "display_data"
    },
    {
     "data": {
      "application/vnd.jupyter.widget-view+json": {
       "model_id": "",
       "version_major": 2,
       "version_minor": 0
      },
      "text/plain": [
       "  -> freeway_0266:   0%|          | 0/105 [00:00<?, ?it/s]"
      ]
     },
     "metadata": {},
     "output_type": "display_data"
    },
    {
     "data": {
      "application/vnd.jupyter.widget-view+json": {
       "model_id": "",
       "version_major": 2,
       "version_minor": 0
      },
      "text/plain": [
       "  -> freeway_0267:   0%|          | 0/72 [00:00<?, ?it/s]"
      ]
     },
     "metadata": {},
     "output_type": "display_data"
    },
    {
     "data": {
      "application/vnd.jupyter.widget-view+json": {
       "model_id": "",
       "version_major": 2,
       "version_minor": 0
      },
      "text/plain": [
       "  -> freeway_0268:   0%|          | 0/26 [00:00<?, ?it/s]"
      ]
     },
     "metadata": {},
     "output_type": "display_data"
    },
    {
     "data": {
      "application/vnd.jupyter.widget-view+json": {
       "model_id": "",
       "version_major": 2,
       "version_minor": 0
      },
      "text/plain": [
       "  -> freeway_0269:   0%|          | 0/136 [00:00<?, ?it/s]"
      ]
     },
     "metadata": {},
     "output_type": "display_data"
    },
    {
     "data": {
      "application/vnd.jupyter.widget-view+json": {
       "model_id": "",
       "version_major": 2,
       "version_minor": 0
      },
      "text/plain": [
       "  -> freeway_0270:   0%|          | 0/101 [00:00<?, ?it/s]"
      ]
     },
     "metadata": {},
     "output_type": "display_data"
    },
    {
     "data": {
      "application/vnd.jupyter.widget-view+json": {
       "model_id": "",
       "version_major": 2,
       "version_minor": 0
      },
      "text/plain": [
       "  -> freeway_0271:   0%|          | 0/44 [00:00<?, ?it/s]"
      ]
     },
     "metadata": {},
     "output_type": "display_data"
    },
    {
     "data": {
      "application/vnd.jupyter.widget-view+json": {
       "model_id": "",
       "version_major": 2,
       "version_minor": 0
      },
      "text/plain": [
       "  -> freeway_0272:   0%|          | 0/71 [00:00<?, ?it/s]"
      ]
     },
     "metadata": {},
     "output_type": "display_data"
    },
    {
     "data": {
      "application/vnd.jupyter.widget-view+json": {
       "model_id": "",
       "version_major": 2,
       "version_minor": 0
      },
      "text/plain": [
       "  -> freeway_0273:   0%|          | 0/90 [00:00<?, ?it/s]"
      ]
     },
     "metadata": {},
     "output_type": "display_data"
    },
    {
     "data": {
      "application/vnd.jupyter.widget-view+json": {
       "model_id": "",
       "version_major": 2,
       "version_minor": 0
      },
      "text/plain": [
       "  -> freeway_0274:   0%|          | 0/67 [00:00<?, ?it/s]"
      ]
     },
     "metadata": {},
     "output_type": "display_data"
    },
    {
     "data": {
      "application/vnd.jupyter.widget-view+json": {
       "model_id": "",
       "version_major": 2,
       "version_minor": 0
      },
      "text/plain": [
       "  -> freeway_0275:   0%|          | 0/32 [00:00<?, ?it/s]"
      ]
     },
     "metadata": {},
     "output_type": "display_data"
    },
    {
     "data": {
      "application/vnd.jupyter.widget-view+json": {
       "model_id": "",
       "version_major": 2,
       "version_minor": 0
      },
      "text/plain": [
       "  -> freeway_0276:   0%|          | 0/34 [00:00<?, ?it/s]"
      ]
     },
     "metadata": {},
     "output_type": "display_data"
    },
    {
     "data": {
      "application/vnd.jupyter.widget-view+json": {
       "model_id": "",
       "version_major": 2,
       "version_minor": 0
      },
      "text/plain": [
       "  -> freeway_0277:   0%|          | 0/7 [00:00<?, ?it/s]"
      ]
     },
     "metadata": {},
     "output_type": "display_data"
    },
    {
     "data": {
      "application/vnd.jupyter.widget-view+json": {
       "model_id": "",
       "version_major": 2,
       "version_minor": 0
      },
      "text/plain": [
       "  -> freeway_0278:   0%|          | 0/6 [00:00<?, ?it/s]"
      ]
     },
     "metadata": {},
     "output_type": "display_data"
    },
    {
     "data": {
      "application/vnd.jupyter.widget-view+json": {
       "model_id": "",
       "version_major": 2,
       "version_minor": 0
      },
      "text/plain": [
       "  -> freeway_0279:   0%|          | 0/32 [00:00<?, ?it/s]"
      ]
     },
     "metadata": {},
     "output_type": "display_data"
    },
    {
     "data": {
      "application/vnd.jupyter.widget-view+json": {
       "model_id": "",
       "version_major": 2,
       "version_minor": 0
      },
      "text/plain": [
       "  -> freeway_0280:   0%|          | 0/122 [00:00<?, ?it/s]"
      ]
     },
     "metadata": {},
     "output_type": "display_data"
    },
    {
     "data": {
      "application/vnd.jupyter.widget-view+json": {
       "model_id": "",
       "version_major": 2,
       "version_minor": 0
      },
      "text/plain": [
       "  -> freeway_0281:   0%|          | 0/97 [00:00<?, ?it/s]"
      ]
     },
     "metadata": {},
     "output_type": "display_data"
    },
    {
     "data": {
      "application/vnd.jupyter.widget-view+json": {
       "model_id": "",
       "version_major": 2,
       "version_minor": 0
      },
      "text/plain": [
       "  -> freeway_0282:   0%|          | 0/131 [00:00<?, ?it/s]"
      ]
     },
     "metadata": {},
     "output_type": "display_data"
    },
    {
     "data": {
      "application/vnd.jupyter.widget-view+json": {
       "model_id": "",
       "version_major": 2,
       "version_minor": 0
      },
      "text/plain": [
       "  -> freeway_0283:   0%|          | 0/106 [00:00<?, ?it/s]"
      ]
     },
     "metadata": {},
     "output_type": "display_data"
    },
    {
     "data": {
      "application/vnd.jupyter.widget-view+json": {
       "model_id": "",
       "version_major": 2,
       "version_minor": 0
      },
      "text/plain": [
       "  -> freeway_0284:   0%|          | 0/153 [00:00<?, ?it/s]"
      ]
     },
     "metadata": {},
     "output_type": "display_data"
    },
    {
     "data": {
      "application/vnd.jupyter.widget-view+json": {
       "model_id": "",
       "version_major": 2,
       "version_minor": 0
      },
      "text/plain": [
       "  -> freeway_0285:   0%|          | 0/136 [00:00<?, ?it/s]"
      ]
     },
     "metadata": {},
     "output_type": "display_data"
    },
    {
     "data": {
      "application/vnd.jupyter.widget-view+json": {
       "model_id": "",
       "version_major": 2,
       "version_minor": 0
      },
      "text/plain": [
       "  -> freeway_0286:   0%|          | 0/122 [00:00<?, ?it/s]"
      ]
     },
     "metadata": {},
     "output_type": "display_data"
    },
    {
     "data": {
      "application/vnd.jupyter.widget-view+json": {
       "model_id": "",
       "version_major": 2,
       "version_minor": 0
      },
      "text/plain": [
       "  -> freeway_0287:   0%|          | 0/15 [00:00<?, ?it/s]"
      ]
     },
     "metadata": {},
     "output_type": "display_data"
    },
    {
     "data": {
      "application/vnd.jupyter.widget-view+json": {
       "model_id": "",
       "version_major": 2,
       "version_minor": 0
      },
      "text/plain": [
       "  -> freeway_0288:   0%|          | 0/98 [00:00<?, ?it/s]"
      ]
     },
     "metadata": {},
     "output_type": "display_data"
    },
    {
     "data": {
      "application/vnd.jupyter.widget-view+json": {
       "model_id": "",
       "version_major": 2,
       "version_minor": 0
      },
      "text/plain": [
       "  -> freeway_0289:   0%|          | 0/90 [00:00<?, ?it/s]"
      ]
     },
     "metadata": {},
     "output_type": "display_data"
    },
    {
     "data": {
      "application/vnd.jupyter.widget-view+json": {
       "model_id": "",
       "version_major": 2,
       "version_minor": 0
      },
      "text/plain": [
       "  -> freeway_0290:   0%|          | 0/20 [00:00<?, ?it/s]"
      ]
     },
     "metadata": {},
     "output_type": "display_data"
    },
    {
     "data": {
      "application/vnd.jupyter.widget-view+json": {
       "model_id": "",
       "version_major": 2,
       "version_minor": 0
      },
      "text/plain": [
       "  -> freeway_0291:   0%|          | 0/63 [00:00<?, ?it/s]"
      ]
     },
     "metadata": {},
     "output_type": "display_data"
    },
    {
     "data": {
      "application/vnd.jupyter.widget-view+json": {
       "model_id": "",
       "version_major": 2,
       "version_minor": 0
      },
      "text/plain": [
       "  -> freeway_0292:   0%|          | 0/76 [00:00<?, ?it/s]"
      ]
     },
     "metadata": {},
     "output_type": "display_data"
    },
    {
     "data": {
      "application/vnd.jupyter.widget-view+json": {
       "model_id": "",
       "version_major": 2,
       "version_minor": 0
      },
      "text/plain": [
       "  -> freeway_0293:   0%|          | 0/51 [00:00<?, ?it/s]"
      ]
     },
     "metadata": {},
     "output_type": "display_data"
    },
    {
     "data": {
      "application/vnd.jupyter.widget-view+json": {
       "model_id": "",
       "version_major": 2,
       "version_minor": 0
      },
      "text/plain": [
       "  -> freeway_0294:   0%|          | 0/132 [00:00<?, ?it/s]"
      ]
     },
     "metadata": {},
     "output_type": "display_data"
    },
    {
     "data": {
      "application/vnd.jupyter.widget-view+json": {
       "model_id": "",
       "version_major": 2,
       "version_minor": 0
      },
      "text/plain": [
       "  -> freeway_0295:   0%|          | 0/15 [00:00<?, ?it/s]"
      ]
     },
     "metadata": {},
     "output_type": "display_data"
    },
    {
     "data": {
      "application/vnd.jupyter.widget-view+json": {
       "model_id": "",
       "version_major": 2,
       "version_minor": 0
      },
      "text/plain": [
       "  -> freeway_0296:   0%|          | 0/33 [00:00<?, ?it/s]"
      ]
     },
     "metadata": {},
     "output_type": "display_data"
    },
    {
     "data": {
      "application/vnd.jupyter.widget-view+json": {
       "model_id": "",
       "version_major": 2,
       "version_minor": 0
      },
      "text/plain": [
       "  -> freeway_0297:   0%|          | 0/110 [00:00<?, ?it/s]"
      ]
     },
     "metadata": {},
     "output_type": "display_data"
    },
    {
     "data": {
      "application/vnd.jupyter.widget-view+json": {
       "model_id": "",
       "version_major": 2,
       "version_minor": 0
      },
      "text/plain": [
       "  -> freeway_0298:   0%|          | 0/119 [00:00<?, ?it/s]"
      ]
     },
     "metadata": {},
     "output_type": "display_data"
    },
    {
     "data": {
      "application/vnd.jupyter.widget-view+json": {
       "model_id": "",
       "version_major": 2,
       "version_minor": 0
      },
      "text/plain": [
       "  -> freeway_0299:   0%|          | 0/70 [00:00<?, ?it/s]"
      ]
     },
     "metadata": {},
     "output_type": "display_data"
    },
    {
     "data": {
      "application/vnd.jupyter.widget-view+json": {
       "model_id": "",
       "version_major": 2,
       "version_minor": 0
      },
      "text/plain": [
       "  -> freeway_0300:   0%|          | 0/104 [00:00<?, ?it/s]"
      ]
     },
     "metadata": {},
     "output_type": "display_data"
    },
    {
     "data": {
      "application/vnd.jupyter.widget-view+json": {
       "model_id": "",
       "version_major": 2,
       "version_minor": 0
      },
      "text/plain": [
       "  -> freeway_0301:   0%|          | 0/121 [00:00<?, ?it/s]"
      ]
     },
     "metadata": {},
     "output_type": "display_data"
    },
    {
     "name": "stdout",
     "output_type": "stream",
     "text": [
      "\n",
      "--- freeway (test set) 處理完成！結果已儲存至: ./freeway_test_with_captions.csv ---\n",
      "\n",
      "*** 所有任務執行完畢！ ***\n"
     ]
    }
   ],
   "source": [
    "#!/usr/bin/env python\n",
    "# coding: utf-8\n",
    "#\n",
    "# 檔名: Carl_VLM_test_optimized.py\n",
    "# 說明: 此版本根據效能回饋進行了優化。\n",
    "#      移除了有問題的批次處理邏輯，改回經過驗證更為高效的「單張循序處理」模式。\n",
    "#      預期執行速度將與 CAR_VLM訓練.py 相當 (約 3-4 秒/張)。\n",
    "#\n",
    "\n",
    "# --- 0. 基本函式庫導入 ---\n",
    "import os\n",
    "import pandas as pd\n",
    "import torch\n",
    "from transformers import AutoProcessor, LlavaForConditionalGeneration, BitsAndBytesConfig\n",
    "from tqdm.notebook import tqdm # 在 Jupyter Notebook 中提供美觀的進度條\n",
    "import glob\n",
    "import time\n",
    "from PIL import Image # 使用 PIL 進行高效的圖片讀取\n",
    "\n",
    "# ====================================================================\n",
    "# --- 1. 使用者參數設定 (請在此處修改) ---\n",
    "# ====================================================================\n",
    "\n",
    "# 選擇要處理的資料集類型：'train' 或 'test'\n",
    "DATASET_TYPE = 'test'\n",
    "\n",
    "# BATCH_SIZE 參數在此版本中不再使用，但保留以便未來切換\n",
    "# BATCH_SIZE = 8 # (已停用)\n",
    "\n",
    "# ====================================================================\n",
    "# --- 2. 組態設定 (通常不需修改) ---\n",
    "# ====================================================================\n",
    "class Config:\n",
    "    BASE_DATA_DIR = \"./\"\n",
    "    MODEL_ID = \"llava-hf/llava-1.5-7b-hf\"\n",
    "    PROMPT = (\n",
    "        \"You are an expert in traffic safety analysis. \"\n",
    "        \"Describe this dashcam image in one sentence focusing on potential hazards, \"\n",
    "        \"such as nearby vehicles' actions, pedestrians, road conditions, and the ego car's movement. \"\n",
    "        \"If no immediate hazard is visible, describe the general traffic scene.\"\n",
    "    )\n",
    "    # --- 優化設定 ---\n",
    "    RESIZE_WIDTH = 800\n",
    "    # 在 Windows 上安裝 flash-attn 有困難，建議設為 False\n",
    "    USE_FLASH_ATTENTION_2 = False\n",
    "\n",
    "\n",
    "# --- 3. 模型載入函式 ---\n",
    "def load_model_and_processor(config):\n",
    "    \"\"\"載入 LLaVA 模型與處理器到 GPU。\"\"\"\n",
    "    print(\"正在載入模型，請稍候...\")\n",
    "    if not torch.cuda.is_available():\n",
    "        raise ConnectionError(\"沒有偵測到 CUDA GPU。此模型需要在 GPU 上運行。\")\n",
    "    print(f\"偵測到 CUDA 設備: {torch.cuda.get_device_name(0)}\")\n",
    "\n",
    "    quantization_config = BitsAndBytesConfig(\n",
    "        load_in_4bit=True,\n",
    "        bnb_4bit_compute_dtype=torch.bfloat16\n",
    "    )\n",
    "\n",
    "    attn_implementation = \"flash_attention_2\" if config.USE_FLASH_ATTENTION_2 else \"eager\"\n",
    "\n",
    "    model = LlavaForConditionalGeneration.from_pretrained(\n",
    "        config.MODEL_ID,\n",
    "        torch_dtype=torch.bfloat16,\n",
    "        low_cpu_mem_usage=True,\n",
    "        quantization_config=quantization_config,\n",
    "        attn_implementation=attn_implementation,\n",
    "    )\n",
    "    processor = AutoProcessor.from_pretrained(config.MODEL_ID)\n",
    "    print(f\"模型載入完成！(Attention Implementation: {attn_implementation})\")\n",
    "    return model, processor\n",
    "\n",
    "# --- 4. 圖片描述生成函式 (修改為高效的單張處理模式) ---\n",
    "def generate_caption_for_image(model, processor, image_path, prompt, resize_width):\n",
    "    \"\"\"\n",
    "    為單張圖片生成描述。\n",
    "    此函式直接採用 CAR_VLM訓練.py 中經過驗證的高效寫法。\n",
    "    \"\"\"\n",
    "    try:\n",
    "        # 使用 PIL 直接讀取和轉換圖片，更為高效\n",
    "        raw_image = Image.open(image_path).convert('RGB')\n",
    "\n",
    "        if resize_width:\n",
    "            width, height = raw_image.size\n",
    "            if width > resize_width:\n",
    "                new_width = resize_width\n",
    "                new_height = int(new_width * height / width)\n",
    "                raw_image = raw_image.resize((new_width, new_height))\n",
    "\n",
    "        final_prompt = f\"USER: <image>\\n{prompt}\\nASSISTANT:\"\n",
    "        # 處理單張圖片，不需 padding，且明確指定 float16 型別\n",
    "        inputs = processor(text=final_prompt, images=raw_image, return_tensors=\"pt\").to(\"cuda\", torch.float16)\n",
    "        \n",
    "        output = model.generate(**inputs, max_new_tokens=100, do_sample=False)\n",
    "        \n",
    "        decoded_text = processor.decode(output[0], skip_special_tokens=True)\n",
    "        caption = decoded_text.split(\"ASSISTANT:\")[-1].strip()\n",
    "        return caption\n",
    "    except Exception as e:\n",
    "        print(f\"處理圖片 {image_path} 時發生錯誤: {e}\")\n",
    "        return \"Error generating caption.\"\n",
    "\n",
    "# --- 5. 資料集處理主函式 (修改為循序處理邏輯) ---\n",
    "def process_dataset(model, processor, config, csv_path, data_type, data_folder, output_csv_path):\n",
    "    \"\"\"處理單一資料集 (road 或 freeway) 的主流程。\"\"\"\n",
    "    if not os.path.exists(csv_path):\n",
    "        print(f\"警告：找不到 CSV 檔案 {csv_path}。跳過此資料集處理。\")\n",
    "        return\n",
    "\n",
    "    print(f\"\\n--- 開始處理 {data_type} ({data_folder} set) ---\")\n",
    "    df = pd.read_csv(csv_path)\n",
    "\n",
    "    # 斷點續傳邏輯\n",
    "    if os.path.exists(output_csv_path):\n",
    "        print(f\"偵測到已存在的輸出檔 {output_csv_path}。將從上次中斷處繼續。\")\n",
    "        output_df = pd.read_csv(output_csv_path)\n",
    "        if 'captions' not in output_df.columns: output_df['captions'] = pd.NA\n",
    "        if 'image_count' not in output_df.columns: output_df['image_count'] = 0\n",
    "    else:\n",
    "        output_df = df.copy()\n",
    "        output_df['image_count'] = 0\n",
    "        output_df['captions'] = pd.NA\n",
    "\n",
    "    # 外層迴圈，處理每個影片切成的圖片資料夾\n",
    "    for index, row in tqdm(df.iterrows(), total=df.shape[0], desc=f\"處理 {data_type} 進度\"):\n",
    "        # 檢查是否已處理過\n",
    "        if pd.notna(output_df.at[index, 'captions']) and output_df.at[index, 'captions'] != \"\":\n",
    "            continue\n",
    "\n",
    "        file_name = row['file_name']\n",
    "        image_dir = os.path.join(config.BASE_DATA_DIR, data_type, data_folder, file_name)\n",
    "\n",
    "        if not os.path.isdir(image_dir):\n",
    "            output_df.at[index, 'captions'] = \"Directory not found.\"\n",
    "            continue\n",
    "\n",
    "        image_files = sorted(glob.glob(os.path.join(image_dir, '*.[jJ][pP][gG]')))\n",
    "        output_df.at[index, 'image_count'] = len(image_files)\n",
    "\n",
    "        if not image_files:\n",
    "            output_df.at[index, 'captions'] = \"No images found.\"\n",
    "            continue\n",
    "\n",
    "        all_captions = []\n",
    "        \n",
    "        # 內層迴圈：一張一張處理圖片，並顯示進度\n",
    "        # 使用 leave=False 讓內層進度條在完成後消失，保持介面整潔\n",
    "        for image_path in tqdm(image_files, desc=f\"  -> {file_name}\", leave=False):\n",
    "            caption = generate_caption_for_image(model, processor, image_path, config.PROMPT, config.RESIZE_WIDTH)\n",
    "            all_captions.append(caption)\n",
    "\n",
    "        combined_captions = \" | \".join(all_captions)\n",
    "        output_df.at[index, 'captions'] = combined_captions\n",
    "\n",
    "        # 每處理完一個 file_name 就存檔一次，確保進度不遺失\n",
    "        output_df.to_csv(output_csv_path, index=False)\n",
    "\n",
    "    print(f\"\\n--- {data_type} ({data_folder} set) 處理完成！結果已儲存至: {output_csv_path} ---\")\n",
    "\n",
    "\n",
    "# ====================================================================\n",
    "# --- 6. 主程式執行區塊 ---\n",
    "# ====================================================================\n",
    "if __name__ == '__main__':\n",
    "    try:\n",
    "        # 根據使用者設定的參數決定檔案名稱\n",
    "        data_folder = DATASET_TYPE\n",
    "    \n",
    "        road_csv_path = os.path.join(Config.BASE_DATA_DIR, f'road_{data_folder}.csv')\n",
    "        freeway_csv_path = os.path.join(Config.BASE_DATA_DIR, f'freeway_{data_folder}.csv')\n",
    "    \n",
    "        output_road_csv_path = os.path.join(Config.BASE_DATA_DIR, f'road_{data_folder}_with_captions.csv')\n",
    "        output_freeway_csv_path = os.path.join(Config.BASE_DATA_DIR, f'freeway_{data_folder}_with_captions.csv')\n",
    "    \n",
    "        # 載入模型\n",
    "        main_model, main_processor = load_model_and_processor(Config)\n",
    "    \n",
    "        print(f\"\\n*** 開始處理 {data_folder.upper()} 資料集 (採用高效循序模式) ***\")\n",
    "    \n",
    "        # 呼叫處理函式\n",
    "        process_dataset(main_model, main_processor, Config, road_csv_path, 'road', data_folder, output_road_csv_path)\n",
    "        process_dataset(main_model, main_processor, Config, freeway_csv_path, 'freeway', data_folder, output_freeway_csv_path)\n",
    "    \n",
    "        print(\"\\n*** 所有任務執行完畢！ ***\")\n",
    "    \n",
    "    except Exception as e:\n",
    "        import traceback\n",
    "        print(f\"\\n程式執行時發生嚴重錯誤: {e}\")\n",
    "        traceback.print_exc()"
   ]
  },
  {
   "cell_type": "code",
   "execution_count": null,
   "id": "b24607f9-277c-4eeb-9cb9-1040efda4503",
   "metadata": {},
   "outputs": [],
   "source": []
  }
 ],
 "metadata": {
  "kernelspec": {
   "display_name": "Python (collision_pred)",
   "language": "python",
   "name": "collision_pred"
  },
  "language_info": {
   "codemirror_mode": {
    "name": "ipython",
    "version": 3
   },
   "file_extension": ".py",
   "mimetype": "text/x-python",
   "name": "python",
   "nbconvert_exporter": "python",
   "pygments_lexer": "ipython3",
   "version": "3.12.9"
  }
 },
 "nbformat": 4,
 "nbformat_minor": 5
}
